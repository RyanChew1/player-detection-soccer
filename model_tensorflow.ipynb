{
 "cells": [
  {
   "attachments": {},
   "cell_type": "markdown",
   "metadata": {},
   "source": [
    "# Import Dependencies"
   ]
  },
  {
   "cell_type": "code",
   "execution_count": 4,
   "metadata": {},
   "outputs": [],
   "source": [
    "import numpy as np\n",
    "import  pandas as pd\n",
    "\n",
    "import matplotlib.pyplot as plt\n",
    "import seaborn as sns\n",
    "import cv2\n",
    "from PIL import Image\n",
    "\n",
    "import os\n",
    "from glob import glob\n",
    "\n",
    "import tensorflow as tf"
   ]
  },
  {
   "attachments": {},
   "cell_type": "markdown",
   "metadata": {},
   "source": [
    "# Load Model"
   ]
  },
  {
   "cell_type": "code",
   "execution_count": 5,
   "metadata": {},
   "outputs": [
    {
     "name": "stderr",
     "output_type": "stream",
     "text": [
      "fatal: destination path 'yolov5' already exists and is not an empty directory.\n"
     ]
    }
   ],
   "source": [
    "!git clone https://github.com/ultralytics/yolov5.git"
   ]
  },
  {
   "cell_type": "code",
   "execution_count": 10,
   "metadata": {},
   "outputs": [
    {
     "name": "stdout",
     "output_type": "stream",
     "text": [
      "[WinError 2] The system cannot find the file specified: 'yolov5/'\n",
      "d:\\LaunchHacks24\\LaunchHacks\\yolov5\n"
     ]
    },
    {
     "name": "stderr",
     "output_type": "stream",
     "text": [
      "'pwd' is not recognized as an internal or external command,\n",
      "operable program or batch file.\n"
     ]
    },
    {
     "name": "stdout",
     "output_type": "stream",
     "text": [
      "Requirement already satisfied: gitpython>=3.1.30 in c:\\users\\chewr\\anaconda3\\envs\\tf\\lib\\site-packages (from -r requirements.txt (line 5)) (3.1.31)\n",
      "Requirement already satisfied: matplotlib>=3.3 in c:\\users\\chewr\\anaconda3\\envs\\tf\\lib\\site-packages (from -r requirements.txt (line 6)) (3.8.3)\n",
      "Requirement already satisfied: numpy>=1.23.5 in c:\\users\\chewr\\anaconda3\\envs\\tf\\lib\\site-packages (from -r requirements.txt (line 7)) (1.25.1)\n",
      "Requirement already satisfied: opencv-python>=4.1.1 in c:\\users\\chewr\\anaconda3\\envs\\tf\\lib\\site-packages (from -r requirements.txt (line 8)) (4.8.0.76)\n",
      "Requirement already satisfied: Pillow>=9.4.0 in c:\\users\\chewr\\anaconda3\\envs\\tf\\lib\\site-packages (from -r requirements.txt (line 9)) (9.4.0)\n",
      "Requirement already satisfied: psutil in c:\\users\\chewr\\anaconda3\\envs\\tf\\lib\\site-packages (from -r requirements.txt (line 10)) (5.9.0)\n",
      "Requirement already satisfied: PyYAML>=5.3.1 in c:\\users\\chewr\\anaconda3\\envs\\tf\\lib\\site-packages (from -r requirements.txt (line 11)) (6.0)\n",
      "Requirement already satisfied: requests>=2.23.0 in c:\\users\\chewr\\anaconda3\\envs\\tf\\lib\\site-packages (from -r requirements.txt (line 12)) (2.31.0)\n",
      "Requirement already satisfied: scipy>=1.4.1 in c:\\users\\chewr\\anaconda3\\envs\\tf\\lib\\site-packages (from -r requirements.txt (line 13)) (1.10.0)\n",
      "Requirement already satisfied: thop>=0.1.1 in c:\\users\\chewr\\anaconda3\\envs\\tf\\lib\\site-packages (from -r requirements.txt (line 14)) (0.1.1.post2209072238)\n",
      "Requirement already satisfied: torch>=1.8.0 in c:\\users\\chewr\\anaconda3\\envs\\tf\\lib\\site-packages (from -r requirements.txt (line 15)) (2.2.2+cu118)\n",
      "Requirement already satisfied: torchvision>=0.9.0 in c:\\users\\chewr\\anaconda3\\envs\\tf\\lib\\site-packages (from -r requirements.txt (line 16)) (0.17.2)\n",
      "Requirement already satisfied: tqdm>=4.64.0 in c:\\users\\chewr\\anaconda3\\envs\\tf\\lib\\site-packages (from -r requirements.txt (line 17)) (4.65.0)\n",
      "Requirement already satisfied: ultralytics>=8.0.232 in c:\\users\\chewr\\anaconda3\\envs\\tf\\lib\\site-packages (from -r requirements.txt (line 18)) (8.1.41)\n",
      "Requirement already satisfied: pandas>=1.1.4 in c:\\users\\chewr\\anaconda3\\envs\\tf\\lib\\site-packages (from -r requirements.txt (line 27)) (2.1.2)\n",
      "Requirement already satisfied: seaborn>=0.11.0 in c:\\users\\chewr\\anaconda3\\envs\\tf\\lib\\site-packages (from -r requirements.txt (line 28)) (0.12.2)\n",
      "Requirement already satisfied: setuptools>=65.5.1 in c:\\users\\chewr\\anaconda3\\envs\\tf\\lib\\site-packages (from -r requirements.txt (line 42)) (65.6.3)\n",
      "Requirement already satisfied: wheel>=0.38.0 in c:\\users\\chewr\\anaconda3\\envs\\tf\\lib\\site-packages (from -r requirements.txt (line 50)) (0.38.4)\n",
      "Requirement already satisfied: gitdb<5,>=4.0.1 in c:\\users\\chewr\\anaconda3\\envs\\tf\\lib\\site-packages (from gitpython>=3.1.30->-r requirements.txt (line 5)) (4.0.10)\n",
      "Requirement already satisfied: kiwisolver>=1.3.1 in c:\\users\\chewr\\anaconda3\\envs\\tf\\lib\\site-packages (from matplotlib>=3.3->-r requirements.txt (line 6)) (1.4.4)\n",
      "Requirement already satisfied: pyparsing>=2.3.1 in c:\\users\\chewr\\anaconda3\\envs\\tf\\lib\\site-packages (from matplotlib>=3.3->-r requirements.txt (line 6)) (2.4.7)\n",
      "Requirement already satisfied: fonttools>=4.22.0 in c:\\users\\chewr\\anaconda3\\envs\\tf\\lib\\site-packages (from matplotlib>=3.3->-r requirements.txt (line 6)) (4.25.0)\n",
      "Requirement already satisfied: importlib-resources>=3.2.0 in c:\\users\\chewr\\anaconda3\\envs\\tf\\lib\\site-packages (from matplotlib>=3.3->-r requirements.txt (line 6)) (5.2.0)\n",
      "Requirement already satisfied: contourpy>=1.0.1 in c:\\users\\chewr\\anaconda3\\envs\\tf\\lib\\site-packages (from matplotlib>=3.3->-r requirements.txt (line 6)) (1.0.5)\n",
      "Requirement already satisfied: python-dateutil>=2.7 in c:\\users\\chewr\\anaconda3\\envs\\tf\\lib\\site-packages (from matplotlib>=3.3->-r requirements.txt (line 6)) (2.8.2)\n",
      "Requirement already satisfied: cycler>=0.10 in c:\\users\\chewr\\anaconda3\\envs\\tf\\lib\\site-packages (from matplotlib>=3.3->-r requirements.txt (line 6)) (0.10.0)\n",
      "Requirement already satisfied: packaging>=20.0 in c:\\users\\chewr\\anaconda3\\envs\\tf\\lib\\site-packages (from matplotlib>=3.3->-r requirements.txt (line 6)) (23.0)\n",
      "Requirement already satisfied: idna<4,>=2.5 in c:\\users\\chewr\\anaconda3\\envs\\tf\\lib\\site-packages (from requests>=2.23.0->-r requirements.txt (line 12)) (3.6)\n",
      "Requirement already satisfied: charset-normalizer<4,>=2 in c:\\users\\chewr\\anaconda3\\envs\\tf\\lib\\site-packages (from requests>=2.23.0->-r requirements.txt (line 12)) (2.0.4)\n",
      "Requirement already satisfied: certifi>=2017.4.17 in c:\\users\\chewr\\anaconda3\\envs\\tf\\lib\\site-packages (from requests>=2.23.0->-r requirements.txt (line 12)) (2023.11.17)\n",
      "Requirement already satisfied: urllib3<3,>=1.21.1 in c:\\users\\chewr\\anaconda3\\envs\\tf\\lib\\site-packages (from requests>=2.23.0->-r requirements.txt (line 12)) (2.1.0)\n",
      "Requirement already satisfied: typing-extensions>=4.8.0 in c:\\users\\chewr\\anaconda3\\envs\\tf\\lib\\site-packages (from torch>=1.8.0->-r requirements.txt (line 15)) (4.9.0)\n",
      "Requirement already satisfied: sympy in c:\\users\\chewr\\anaconda3\\envs\\tf\\lib\\site-packages (from torch>=1.8.0->-r requirements.txt (line 15)) (1.11.1)\n",
      "Requirement already satisfied: networkx in c:\\users\\chewr\\anaconda3\\envs\\tf\\lib\\site-packages (from torch>=1.8.0->-r requirements.txt (line 15)) (2.8.4)\n",
      "Requirement already satisfied: fsspec in c:\\users\\chewr\\anaconda3\\envs\\tf\\lib\\site-packages (from torch>=1.8.0->-r requirements.txt (line 15)) (2023.12.0)\n",
      "Requirement already satisfied: filelock in c:\\users\\chewr\\anaconda3\\envs\\tf\\lib\\site-packages (from torch>=1.8.0->-r requirements.txt (line 15)) (3.9.0)\n",
      "Requirement already satisfied: jinja2 in c:\\users\\chewr\\anaconda3\\envs\\tf\\lib\\site-packages (from torch>=1.8.0->-r requirements.txt (line 15)) (3.1.2)\n",
      "Requirement already satisfied: colorama in c:\\users\\chewr\\anaconda3\\envs\\tf\\lib\\site-packages (from tqdm>=4.64.0->-r requirements.txt (line 17)) (0.4.6)\n",
      "Requirement already satisfied: py-cpuinfo in c:\\users\\chewr\\anaconda3\\envs\\tf\\lib\\site-packages (from ultralytics>=8.0.232->-r requirements.txt (line 18)) (9.0.0)\n",
      "Requirement already satisfied: tzdata>=2022.1 in c:\\users\\chewr\\anaconda3\\envs\\tf\\lib\\site-packages (from pandas>=1.1.4->-r requirements.txt (line 27)) (2023.3)\n",
      "Requirement already satisfied: pytz>=2020.1 in c:\\users\\chewr\\anaconda3\\envs\\tf\\lib\\site-packages (from pandas>=1.1.4->-r requirements.txt (line 27)) (2023.3.post1)\n",
      "Requirement already satisfied: six in c:\\users\\chewr\\anaconda3\\envs\\tf\\lib\\site-packages (from cycler>=0.10->matplotlib>=3.3->-r requirements.txt (line 6)) (1.16.0)\n",
      "Requirement already satisfied: smmap<6,>=3.0.1 in c:\\users\\chewr\\anaconda3\\envs\\tf\\lib\\site-packages (from gitdb<5,>=4.0.1->gitpython>=3.1.30->-r requirements.txt (line 5)) (5.0.0)\n",
      "Requirement already satisfied: zipp>=3.1.0 in c:\\users\\chewr\\anaconda3\\envs\\tf\\lib\\site-packages (from importlib-resources>=3.2.0->matplotlib>=3.3->-r requirements.txt (line 6)) (3.11.0)\n",
      "Requirement already satisfied: MarkupSafe>=2.0 in c:\\users\\chewr\\anaconda3\\envs\\tf\\lib\\site-packages (from jinja2->torch>=1.8.0->-r requirements.txt (line 15)) (2.1.1)\n",
      "Requirement already satisfied: mpmath>=0.19 in c:\\users\\chewr\\anaconda3\\envs\\tf\\lib\\site-packages (from sympy->torch>=1.8.0->-r requirements.txt (line 15)) (1.2.1)\n"
     ]
    },
    {
     "name": "stderr",
     "output_type": "stream",
     "text": [
      "WARNING: Ignoring invalid distribution -rotobuf (c:\\users\\chewr\\anaconda3\\envs\\tf\\lib\\site-packages)\n",
      "WARNING: Ignoring invalid distribution -pencv-python (c:\\users\\chewr\\anaconda3\\envs\\tf\\lib\\site-packages)\n",
      "WARNING: Ignoring invalid distribution -rotobuf (c:\\users\\chewr\\anaconda3\\envs\\tf\\lib\\site-packages)\n",
      "WARNING: Ignoring invalid distribution -pencv-python (c:\\users\\chewr\\anaconda3\\envs\\tf\\lib\\site-packages)\n",
      "WARNING: Ignoring invalid distribution -rotobuf (c:\\users\\chewr\\anaconda3\\envs\\tf\\lib\\site-packages)\n",
      "WARNING: Ignoring invalid distribution -pencv-python (c:\\users\\chewr\\anaconda3\\envs\\tf\\lib\\site-packages)\n",
      "WARNING: Ignoring invalid distribution -rotobuf (c:\\users\\chewr\\anaconda3\\envs\\tf\\lib\\site-packages)\n",
      "WARNING: Ignoring invalid distribution -pencv-python (c:\\users\\chewr\\anaconda3\\envs\\tf\\lib\\site-packages)\n",
      "WARNING: Ignoring invalid distribution -rotobuf (c:\\users\\chewr\\anaconda3\\envs\\tf\\lib\\site-packages)\n",
      "WARNING: Ignoring invalid distribution -pencv-python (c:\\users\\chewr\\anaconda3\\envs\\tf\\lib\\site-packages)\n",
      "WARNING: Ignoring invalid distribution -rotobuf (c:\\users\\chewr\\anaconda3\\envs\\tf\\lib\\site-packages)\n",
      "WARNING: Ignoring invalid distribution -pencv-python (c:\\users\\chewr\\anaconda3\\envs\\tf\\lib\\site-packages)\n"
     ]
    }
   ],
   "source": [
    "%cd yolov5/\n",
    "!pwd\n",
    "!pip install -r requirements.txt"
   ]
  },
  {
   "cell_type": "code",
   "execution_count": 8,
   "metadata": {},
   "outputs": [],
   "source": [
    "# Helper function for inference on images.\n",
    "def inference(RES_DIR, data_path):\n",
    "    # Directory to store inference results.\n",
    "    infer_dir_count = len(glob('runs/detect/*'))\n",
    "    print(f\"Current number of inference detection directories: {infer_dir_count}\")\n",
    "    INFER_DIR = f\"inference_{infer_dir_count+1}\"\n",
    "    print(INFER_DIR)\n",
    "    # Inference on images.\n",
    "    !python detect.py --weights runs/train/{RES_DIR}/weights/best.pt \\\n",
    "    --source {data_path} --name {INFER_DIR}\n",
    "    return INFER_DIR"
   ]
  },
  {
   "cell_type": "code",
   "execution_count": 9,
   "metadata": {},
   "outputs": [],
   "source": [
    "def visualize(INFER_DIR):\n",
    "    # Set the path for the directory containing the inference images.\n",
    "    INFER_PATH = f\"runs/detect/{INFER_DIR}\"\n",
    "    # Use glob to get a list of all .jpg files in the directory.\n",
    "    infer_images = glob.glob(f\"{INFER_PATH}/*.jpg\")\n",
    "    # Print the list of image paths.\n",
    "    print(infer_images)\n",
    "    # Loop through each image and display it using matplotlib.\n",
    "    for pred_image in infer_images:\n",
    "        # Read the image using OpenCV.\n",
    "        image = cv2.imread(pred_image)\n",
    "        # Create a new figure with a size of 19x16 inches.\n",
    "        plt.figure(figsize=(19, 16))\n",
    "        # Display the image using matplotlib, converting from BGR to RGB color space.\n",
    "        plt.imshow(image[:, :, ::-1])\n",
    "        # Turn off the axis labels.\n",
    "        plt.axis('off')\n",
    "        # Show the figure.\n",
    "        plt.show()"
   ]
  },
  {
   "cell_type": "code",
   "execution_count": null,
   "metadata": {},
   "outputs": [],
   "source": []
  },
  {
   "attachments": {},
   "cell_type": "markdown",
   "metadata": {},
   "source": [
    "## Monitor Tensorboard"
   ]
  },
  {
   "cell_type": "code",
   "execution_count": null,
   "metadata": {},
   "outputs": [],
   "source": [
    "def store_results_dir():\n",
    "    # Directory to store results\n",
    "\n",
    "    # Count the number of existing result directories\n",
    "    res_dir_count = len(glob('runs/train/*'))\n",
    "\n",
    "    # Print the current number of result directories\n",
    "    print(f\"Current number of result directories: {res_dir_count}\")\n",
    "\n",
    "    # If the code is being run for training\n",
    "    if TRAIN:\n",
    "        # Set the name of the result directory to include a count incremented by 1\n",
    "        RESULTS_DIR = f\"results_{res_dir_count+1}\"\n",
    "        print(RESULTS_DIR)\n",
    "    # If the code is not being run for training\n",
    "    else:\n",
    "        # Set the name of the result directory to the existing count\n",
    "        RESULTS_DIR = f\"results_{res_dir_count}\"\n",
    "\n",
    "    # Return the name of the result directory\n",
    "    return RESULTS_DIR"
   ]
  },
  {
   "cell_type": "code",
   "execution_count": 7,
   "metadata": {},
   "outputs": [],
   "source": [
    "def monitor_tensorboard():\n",
    "    # Load the TensorBoard extension for Jupyter notebook\n",
    "    %load_ext tensorboard\n",
    "\n",
    "    # Start the TensorBoard instance and set the log directory to 'runs/train'\n",
    "    %tensorboard --logdir runs/train"
   ]
  },
  {
   "cell_type": "code",
   "execution_count": null,
   "metadata": {},
   "outputs": [],
   "source": [
    "inference()"
   ]
  }
 ],
 "metadata": {
  "kernelspec": {
   "display_name": "tf",
   "language": "python",
   "name": "python3"
  },
  "language_info": {
   "codemirror_mode": {
    "name": "ipython",
    "version": 3
   },
   "file_extension": ".py",
   "mimetype": "text/x-python",
   "name": "python",
   "nbconvert_exporter": "python",
   "pygments_lexer": "ipython3",
   "version": "3.9.16"
  },
  "orig_nbformat": 4
 },
 "nbformat": 4,
 "nbformat_minor": 2
}
