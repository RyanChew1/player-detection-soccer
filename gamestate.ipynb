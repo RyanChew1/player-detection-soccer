{
 "cells": [
  {
   "cell_type": "code",
   "execution_count": 1,
   "metadata": {},
   "outputs": [],
   "source": [
    "import torch\n",
    "\n",
    "import numpy as np\n",
    "\n",
    "import matplotlib.pyplot as plt\n",
    "import cv2\n",
    "\n",
    "import json\n",
    "import os\n",
    "from os.path import join, split\n",
    "import zipfile\n",
    "from glob import glob"
   ]
  },
  {
   "cell_type": "code",
   "execution_count": 2,
   "metadata": {},
   "outputs": [],
   "source": [
    "class config:\n",
    "  data_path = \"data\""
   ]
  },
  {
   "cell_type": "code",
   "execution_count": 47,
   "metadata": {},
   "outputs": [],
   "source": [
    "class Video():\n",
    "  def __init__(self, name:str) -> None:\n",
    "    self.path = name\n",
    "    self.image_paths = glob(f\"{self.path}/**/**.jpg\")\n",
    "    self.label_path = glob(f\"{self.path}/**.json\")[0]\n",
    "\n",
    "    self.class_names = {'player': 0,\n",
    "  'referee': 1,\n",
    "  'ball': 2,\n",
    "  'Side line top': 3,\n",
    "  'Middle line': 4,\n",
    "  'Circle central': 5,\n",
    "  'Big rect. left main': 6,\n",
    "  'Big rect. left top': 7,\n",
    "  'Circle left': 8,\n",
    "  'Side line left': 9,\n",
    "  'Small rect. left top': 10,\n",
    "  'Small rect. left main': 11,\n",
    "  'goalkeeper': 12,\n",
    "  'Goal left post right': 13,\n",
    "  'Goal left crossbar': 14,\n",
    "  'Side line bottom': 15,\n",
    "  'Small rect. left bottom': 16,\n",
    "  'Goal left post left': 17,\n",
    "  'Big rect. left bottom': 18,\n",
    "  'Big rect. right main': 19,\n",
    "  'Big rect. right top': 20,\n",
    "  'Circle right': 21,\n",
    "  'Side line right': 22,\n",
    "  'Small rect. right main': 23,\n",
    "  'Small rect. right top': 24,\n",
    "  'Goal right post left': 25,\n",
    "  'Goal right crossbar': 26,\n",
    "  'Goal right post right': 27,\n",
    "  'Small rect. right bottom': 28,\n",
    "  'Big rect. right bottom': 29,\n",
    "  'other':30}\n",
    "\n",
    "  def __len__(self):\n",
    "    return len(self.image_paths)\n",
    "\n",
    "  def run_inference(self, img_path):\n",
    "    img = np.array(Image.open(img_path))\n",
    "    results = model(img)\n",
    "    plt.imshow(draw_bboxes(results))\n",
    "\n",
    "    \n",
    "\n",
    "  def json2yolo(self):\n",
    "      json_file = self.label_path\n",
    "      with open(json_file, 'r') as f:\n",
    "          data = json.load(f)\n",
    "\n",
    "      all_classes = {}\n",
    "      classes = []\n",
    "\n",
    "      for i in data['annotations']:\n",
    "        img_id = i['image_id'][4:]\n",
    "        txt = \"\"\n",
    "        if i['category_id'] == 5: # Pitch\n",
    "          lines = i['lines']\n",
    "          for j in lines:\n",
    "            label = self.class_names[j]\n",
    "            coords = lines[j]\n",
    "            w = 1/1920\n",
    "            h=1/1080\n",
    "            for k in coords:\n",
    "               x = k['x']/1920\n",
    "               y = k['y']/1080\n",
    "               txt += f\"{label} {x} {y} {w} {h}\\n\"\n",
    "        else: # Not Pitch\n",
    "          label = self.class_names[i['attributes']['role']]\n",
    "          box = i['bbox_image']\n",
    "          x = box['x_center']/1920\n",
    "          y = box['y_center']/1080\n",
    "          w = box['w']/1920\n",
    "          h = box['h']/1080\n",
    "\n",
    "          txt += f\"{label} {x} {y} {w} {h}\\n\"\n",
    "        if not os.path.exists(join(os.path.split(json_file)[0],f\"labels\")):\n",
    "          os.mkdir(join(os.path.split(json_file)[0],f\"labels\"))\n",
    "\n",
    "        f = open(join(os.path.split(json_file)[0],f\"labels/{img_id}.txt\"), \"a\")\n",
    "        f.write(txt)\n",
    "        f.close()\n",
    "\n",
    "\n",
    "  def __getitem__(self, idx):\n",
    "    img_path = self.image_paths[idx]\n",
    "    img_id = os.path.split(img_path)[-1]\n",
    "    print(img_id)\n",
    "\n"
   ]
  },
  {
   "cell_type": "code",
   "execution_count": 48,
   "metadata": {},
   "outputs": [
    {
     "name": "stdout",
     "output_type": "stream",
     "text": [
      "164 Total Clips\n"
     ]
    }
   ],
   "source": [
    "all_clips = glob(f\"{config.data_path}/**/**/\")\n",
    "print(f\"{len(all_clips)} Total Clips\")"
   ]
  },
  {
   "cell_type": "code",
   "execution_count": 49,
   "metadata": {},
   "outputs": [],
   "source": [
    "for i in all_clips:\n",
    "    vid = Video(i)\n",
    "    path = (f\"{split(vid.label_path)[0]}\\\\labels\")\n",
    "    try:\n",
    "        if os.path.exists(path):\n",
    "            for j in os.listdir(path):\n",
    "                os.remove(join(i,j))\n",
    "            os.remove(path)\n",
    "    except:\n",
    "        pass"
   ]
  },
  {
   "cell_type": "code",
   "execution_count": 50,
   "metadata": {},
   "outputs": [],
   "source": [
    "for i in all_clips:\n",
    "    vid = Video(i)\n",
    "    vid.json2yolo()"
   ]
  },
  {
   "cell_type": "code",
   "execution_count": 51,
   "metadata": {},
   "outputs": [],
   "source": [
    "for i in all_clips:\n",
    "    folder_id = i[-4:-1]\n",
    "    for j in os.listdir(join(i,\"images\")):\n",
    "        try:\n",
    "            os.rename(join(i,\"images\",j), join(i,\"images\",f\"{folder_id}{j}\"))\n",
    "        except:\n",
    "            pass\n",
    "    for j in os.listdir(join(i,\"labels\")):\n",
    "        try:\n",
    "            os.rename(join(i,\"labels\",j), join(i,\"labels\",f\"{folder_id}{j}\"))\n",
    "        except:\n",
    "            pass"
   ]
  },
  {
   "cell_type": "code",
   "execution_count": 52,
   "metadata": {},
   "outputs": [],
   "source": [
    "for i in all_clips:\n",
    "    for j in os.listdir(join(i,\"images\")):\n",
    "\n",
    "        path = join(i,\"images\",j).split(\"\\\\\")\n",
    "        og_path = join(i,\"images\",j)\n",
    "        new_path = (f\"datasets\\\\{path[1]}\\\\{path[3]}\\\\{path[4]}\")\n",
    "        if os.path.exists(og_path):\n",
    "            os.rename(og_path, new_path)\n",
    "    for j in os.listdir(join(i,\"labels\")):\n",
    "        path = join(i,\"labels\",j).split(\"\\\\\")\n",
    "        og_path = join(i,\"labels\",j)\n",
    "        new_path = (f\"datasets\\\\{path[1]}\\\\{path[3]}\\\\{path[4]}\")\n",
    "        if os.path.exists(og_path):\n",
    "            os.rename(og_path, new_path)"
   ]
  },
  {
   "cell_type": "code",
   "execution_count": 53,
   "metadata": {},
   "outputs": [
    {
     "ename": "KeyboardInterrupt",
     "evalue": "",
     "output_type": "error",
     "traceback": [
      "\u001b[1;31m---------------------------------------------------------------------------\u001b[0m",
      "\u001b[1;31mKeyboardInterrupt\u001b[0m                         Traceback (most recent call last)",
      "Cell \u001b[1;32mIn[53], line 2\u001b[0m\n\u001b[0;32m      1\u001b[0m \u001b[39mfor\u001b[39;00m label_file \u001b[39min\u001b[39;00m glob(\u001b[39mf\u001b[39m\u001b[39m\"\u001b[39m\u001b[39mdatasets\u001b[39m\u001b[39m\\\\\u001b[39;00m\u001b[39mtrain\u001b[39m\u001b[39m\\\\\u001b[39;00m\u001b[39mlabels\u001b[39m\u001b[39m\\\\\u001b[39;00m\u001b[39m*\u001b[39m\u001b[39m\"\u001b[39m):\n\u001b[1;32m----> 2\u001b[0m     \u001b[39mwith\u001b[39;00m \u001b[39mopen\u001b[39;49m(label_file, \u001b[39m\"\u001b[39;49m\u001b[39mr\u001b[39;49m\u001b[39m\"\u001b[39;49m) \u001b[39mas\u001b[39;00m f:\n\u001b[0;32m      3\u001b[0m         lines \u001b[39m=\u001b[39m f\u001b[39m.\u001b[39mreadlines()\n\u001b[0;32m      4\u001b[0m         \u001b[39mfor\u001b[39;00m i \u001b[39min\u001b[39;00m lines:\n",
      "File \u001b[1;32mc:\\Users\\chewr\\anaconda3\\envs\\kernel\\Lib\\site-packages\\IPython\\core\\interactiveshell.py:324\u001b[0m, in \u001b[0;36m_modified_open\u001b[1;34m(file, *args, **kwargs)\u001b[0m\n\u001b[0;32m    317\u001b[0m \u001b[39mif\u001b[39;00m file \u001b[39min\u001b[39;00m {\u001b[39m0\u001b[39m, \u001b[39m1\u001b[39m, \u001b[39m2\u001b[39m}:\n\u001b[0;32m    318\u001b[0m     \u001b[39mraise\u001b[39;00m \u001b[39mValueError\u001b[39;00m(\n\u001b[0;32m    319\u001b[0m         \u001b[39mf\u001b[39m\u001b[39m\"\u001b[39m\u001b[39mIPython won\u001b[39m\u001b[39m'\u001b[39m\u001b[39mt let you open fd=\u001b[39m\u001b[39m{\u001b[39;00mfile\u001b[39m}\u001b[39;00m\u001b[39m by default \u001b[39m\u001b[39m\"\u001b[39m\n\u001b[0;32m    320\u001b[0m         \u001b[39m\"\u001b[39m\u001b[39mas it is likely to crash IPython. If you know what you are doing, \u001b[39m\u001b[39m\"\u001b[39m\n\u001b[0;32m    321\u001b[0m         \u001b[39m\"\u001b[39m\u001b[39myou can use builtins\u001b[39m\u001b[39m'\u001b[39m\u001b[39m open.\u001b[39m\u001b[39m\"\u001b[39m\n\u001b[0;32m    322\u001b[0m     )\n\u001b[1;32m--> 324\u001b[0m \u001b[39mreturn\u001b[39;00m io_open(file, \u001b[39m*\u001b[39;49margs, \u001b[39m*\u001b[39;49m\u001b[39m*\u001b[39;49mkwargs)\n",
      "File \u001b[1;32m<frozen codecs>:309\u001b[0m, in \u001b[0;36m__init__\u001b[1;34m(self, errors)\u001b[0m\n",
      "\u001b[1;31mKeyboardInterrupt\u001b[0m: "
     ]
    }
   ],
   "source": [
    "for label_file in glob(f\"datasets\\\\train\\\\labels\\\\*\"):\n",
    "    with open(label_file, \"r\") as f:\n",
    "        lines = f.readlines()\n",
    "        for i in lines:\n",
    "            if len(i)==0:\n",
    "                print(label_file)"
   ]
  },
  {
   "cell_type": "code",
   "execution_count": null,
   "metadata": {},
   "outputs": [
    {
     "name": "stdout",
     "output_type": "stream",
     "text": [
      "21\n",
      "21\n",
      "21\n",
      "21\n",
      "20\n",
      "21\n",
      "22\n",
      "22\n",
      "22\n",
      "22\n",
      "22\n",
      "22\n",
      "22\n",
      "22\n",
      "22\n",
      "22\n",
      "22\n",
      "22\n",
      "23\n",
      "20\n"
     ]
    }
   ],
   "source": [
    "\n",
    "# with open(\"yourfile.txt\", \"w\") as f:\n",
    "#     for line in lines:\n",
    "#         if line.strip(\"\\n\") != \"nickname_to_delete\":\n",
    "#             f.write(line)"
   ]
  }
 ],
 "metadata": {
  "kernelspec": {
   "display_name": "kernel",
   "language": "python",
   "name": "python3"
  },
  "language_info": {
   "codemirror_mode": {
    "name": "ipython",
    "version": 3
   },
   "file_extension": ".py",
   "mimetype": "text/x-python",
   "name": "python",
   "nbconvert_exporter": "python",
   "pygments_lexer": "ipython3",
   "version": "3.11.8"
  },
  "orig_nbformat": 4
 },
 "nbformat": 4,
 "nbformat_minor": 2
}
